{
 "cells": [
  {
   "cell_type": "code",
   "execution_count": 1,
   "metadata": {},
   "outputs": [],
   "source": [
    "using AMLET, RDST, Distributions, ForwardDiff, GERALDINE"
   ]
  },
  {
   "cell_type": "code",
   "execution_count": 2,
   "metadata": {},
   "outputs": [
    {
     "data": {
      "text/plain": [
       "8"
      ]
     },
     "execution_count": 2,
     "metadata": {},
     "output_type": "execute_result"
    }
   ],
   "source": [
    "ngamma = 8"
   ]
  },
  {
   "cell_type": "code",
   "execution_count": 3,
   "metadata": {},
   "outputs": [
    {
     "data": {
      "text/plain": [
       "iterate (generic function with 271 methods)"
      ]
     },
     "execution_count": 3,
     "metadata": {},
     "output_type": "execute_result"
    }
   ],
   "source": [
    "struct DummyBatch <: Batch\n",
    "    IND::Array{LM_Individual}\n",
    "    rng::MRG32k3a\n",
    "end\n",
    "\n",
    "import Base.iterate\n",
    "function iterate(db::DummyBatch)\n",
    "    state = 1\n",
    "    reset_stream!(db.rng)\n",
    "    if state <= length(db.IND)\n",
    "        return MLM_Individual(db.IND[state], db.rng, ngamma), state+1\n",
    "    else\n",
    "        return nothing\n",
    "    end\n",
    "end\n",
    "function iterate(db::DummyBatch, state::Int = 1)\n",
    "    if state <= length(db.IND)\n",
    "        next_substream!(db.rng)\n",
    "        return MLM_Individual(db.IND[state], db.rng, ngamma), state+1\n",
    "    else\n",
    "        return nothing\n",
    "    end\n",
    "end"
   ]
  },
  {
   "cell_type": "code",
   "execution_count": 4,
   "metadata": {},
   "outputs": [
    {
     "data": {
      "text/plain": [
       "Full state of MRG32k3a generator:\n",
       "Cg = [2459988903, 764778996, 4187205638, 4089700229, 517468743, 2169295582]\n",
       "Bg = [2459988903, 764778996, 4187205638, 4089700229, 517468743, 2169295582]\n",
       "Ig = [2459988903, 764778996, 4187205638, 4089700229, 517468743, 2169295582]"
      ]
     },
     "execution_count": 4,
     "metadata": {},
     "output_type": "execute_result"
    }
   ],
   "source": [
    "gen = MRG32k3aGen([125,8765423,4546,6434,645,76465])\n",
    "betaGen = next_stream(gen)\n",
    "monteCarlosGen = next_stream(gen)"
   ]
  },
  {
   "cell_type": "code",
   "execution_count": 5,
   "metadata": {},
   "outputs": [
    {
     "data": {
      "text/plain": [
       "beta (generic function with 1 method)"
      ]
     },
     "execution_count": 5,
     "metadata": {},
     "output_type": "execute_result"
    }
   ],
   "source": [
    "function beta(θ::Vector, rng)\n",
    "    N = Normal.(θ[1:4], θ[5:8])\n",
    "    return [rand(rng, N[1]), rand(rng, N[2]), rand(rng, N[3]), rand(rng, N[4])]\n",
    "end"
   ]
  },
  {
   "cell_type": "code",
   "execution_count": 6,
   "metadata": {},
   "outputs": [
    {
     "data": {
      "text/plain": [
       "Gumbel{Float64}(μ=0.0, θ=1.0)"
      ]
     },
     "execution_count": 6,
     "metadata": {},
     "output_type": "execute_result"
    }
   ],
   "source": [
    "gum = Gumbel()"
   ]
  },
  {
   "cell_type": "code",
   "execution_count": 7,
   "metadata": {},
   "outputs": [
    {
     "data": {
      "text/plain": [
       "genIND (generic function with 1 method)"
      ]
     },
     "execution_count": 7,
     "metadata": {},
     "output_type": "execute_result"
    }
   ],
   "source": [
    "function genIND(dists::Array{T, 1}, θ::Vector, m::Int) where T<: Distribution\n",
    "    β = beta(θ, betaGen)\n",
    "    N = length(dists)\n",
    "    param = Array{Float64, 2}(undef, 0, N)\n",
    "    for _ in 1:m\n",
    "        param = [param ; (rand.(dists))']\n",
    "    end\n",
    "    best = argmax(param*β + rand(gum, m))\n",
    "    return LM_Individual(param, best, 1)\n",
    "end"
   ]
  },
  {
   "cell_type": "code",
   "execution_count": 8,
   "metadata": {},
   "outputs": [
    {
     "data": {
      "text/plain": [
       "8-element Array{Int64,1}:\n",
       " 5\n",
       " 6\n",
       " 7\n",
       " 8\n",
       " 1\n",
       " 1\n",
       " 1\n",
       " 1"
      ]
     },
     "execution_count": 8,
     "metadata": {},
     "output_type": "execute_result"
    }
   ],
   "source": [
    "θstar = [5,6,7,8, 1,1,1,1]"
   ]
  },
  {
   "cell_type": "code",
   "execution_count": 9,
   "metadata": {},
   "outputs": [
    {
     "data": {
      "text/plain": [
       "LM_Individual{Array{Float64,2}}([2.717131814896976 -1.61050775820401 0.8323190344224061 2.9252797069751657; -1.1900984511465955 6.01037753051534 3.6783536089786733 6.066558631417099; … ; 6.454821058292465 -1.0203000572869518 6.503579814144955 5.685134647368919; 0.9559566681983296 -0.5446896587829566 -0.917421201949403 3.9855305977089053], 2, 1)"
      ]
     },
     "execution_count": 9,
     "metadata": {},
     "output_type": "execute_result"
    }
   ],
   "source": [
    "dists = [Normal(2, 4) for _ in 1:4]\n",
    "genIND(dists, θstar, 5)"
   ]
  },
  {
   "cell_type": "code",
   "execution_count": 10,
   "metadata": {},
   "outputs": [],
   "source": [
    "db = DummyBatch([genIND(dists, θstar, 5) for _ in 1:1_000], monteCarlosGen);"
   ]
  },
  {
   "cell_type": "code",
   "execution_count": 11,
   "metadata": {},
   "outputs": [],
   "source": [
    "mlm = MLM(db);"
   ]
  },
  {
   "cell_type": "code",
   "execution_count": 12,
   "metadata": {},
   "outputs": [
    {
     "data": {
      "text/plain": [
       "∇EU_i (generic function with 1 method)"
      ]
     },
     "execution_count": 12,
     "metadata": {},
     "output_type": "execute_result"
    }
   ],
   "source": [
    "#linear utilities of mixed logit model where each parameters of beta are assumed to follow an \n",
    "#independant exponnential Distribution beta\n",
    "\n",
    "function EU(θ::Vector, X::Matrix, rng::Rigged{N}) where N\n",
    "    β = beta(θ, rng)\n",
    "    reset_stream!(rng)\n",
    "    return X*β\n",
    "end\n",
    "\n",
    "function EU_i(θ::Vector, X::Matrix, i::Int64, rng::Rigged{N}) where N\n",
    "    β = beta(θ, rng)\n",
    "    reset_stream!(rng)\n",
    "    return X[i, :]'*β\n",
    "end\n",
    "\n",
    "function ∇EU(θ::Vector, X::Matrix, rng::Rigged{N}) where N\n",
    "    return vcat([∇EU_i(θ, X, i, rng) for i in 1:size(X, 1)]...)\n",
    "end\n",
    "\n",
    "function ∇EU_i(θ::Vector, X::Matrix, i::Int64, rng::Rigged{N}) where N\n",
    "    function tmp(x::Vector)\n",
    "        return EU_i(x, X, i, rng)\n",
    "    end\n",
    "    return ForwardDiff.gradient(tmp, θ)\n",
    "end\n",
    "\n",
    "#uti = AMLET.LinearUtilitie(EU, ∇EU, EU_i, ∇EU_i)\n"
   ]
  },
  {
   "cell_type": "code",
   "execution_count": 13,
   "metadata": {},
   "outputs": [
    {
     "data": {
      "text/plain": [
       "AMLET.LinearUtilitie(EU, ∇EU, EU_i, ∇EU_i)"
      ]
     },
     "execution_count": 13,
     "metadata": {},
     "output_type": "execute_result"
    }
   ],
   "source": [
    "#linear utilities of mixed logit model where each parameters of beta are assumed to follow an \n",
    "#independant exponnential Distribution beta\n",
    "\n",
    "function EU(θ::Vector, X::Matrix, rng::Rigged{N}) where N\n",
    "    β = θ[1:4] + θ[5:8] .* [rand(rng, Normal(0, 1)) for _ in 1:4]\n",
    "    reset_substream!(rng)\n",
    "    return X*β\n",
    "end\n",
    "\n",
    "function EU_i(θ::Vector, X::Matrix, i::Int64, rng::Rigged{N}) where N\n",
    "    β = θ[1:4] + θ[5:8] .* [rand(rng, Normal(0, 1)) for _ in 1:4]\n",
    "    reset_substream!(rng)\n",
    "    return X[i, :]'*β\n",
    "end\n",
    "\n",
    "function ∇EU(θ::Vector, X::Matrix, rng::Rigged{N}) where N\n",
    "    return vcat([∇EU_i(θ, X, i, rng) for i in 1:size(X, 1)]...)\n",
    "end\n",
    "\n",
    "function ∇EU_i(θ::Vector, X::Matrix, i::Int64, rng::Rigged{N}) where N\n",
    "    function tmp(x::Vector)\n",
    "        return EU_i(x, X, i, rng)\n",
    "    end\n",
    "    return ForwardDiff.gradient(tmp, θ)\n",
    "end\n",
    "\n",
    "uti = AMLET.LinearUtilitie(EU, ∇EU, EU_i, ∇EU_i)\n"
   ]
  },
  {
   "cell_type": "code",
   "execution_count": 14,
   "metadata": {},
   "outputs": [
    {
     "data": {
      "text/plain": [
       "(::AMLET.var\"#∇F!#17\"{DummyBatch,AMLET.LinearUtilitie,Int64}) (generic function with 2 methods)"
      ]
     },
     "execution_count": 14,
     "metadata": {},
     "output_type": "execute_result"
    }
   ],
   "source": [
    "complete_Model!(mlm, uti, 20)"
   ]
  },
  {
   "cell_type": "code",
   "execution_count": null,
   "metadata": {},
   "outputs": [],
   "source": []
  },
  {
   "cell_type": "code",
   "execution_count": 15,
   "metadata": {},
   "outputs": [
    {
     "data": {
      "text/plain": [
       "0.46688960856960326"
      ]
     },
     "execution_count": 15,
     "metadata": {},
     "output_type": "execute_result"
    }
   ],
   "source": [
    "mlm.f(ones(8))"
   ]
  },
  {
   "cell_type": "code",
   "execution_count": 16,
   "metadata": {},
   "outputs": [
    {
     "data": {
      "text/plain": [
       "0.46688960856960326"
      ]
     },
     "execution_count": 16,
     "metadata": {},
     "output_type": "execute_result"
    }
   ],
   "source": [
    "mlm.f(ones(8))"
   ]
  },
  {
   "cell_type": "code",
   "execution_count": 17,
   "metadata": {},
   "outputs": [
    {
     "data": {
      "text/plain": [
       "8-element Array{Float64,1}:\n",
       " 0.0\n",
       " 0.0\n",
       " 0.0\n",
       " 0.0\n",
       " 0.0\n",
       " 0.0\n",
       " 0.0\n",
       " 0.0"
      ]
     },
     "execution_count": 17,
     "metadata": {},
     "output_type": "execute_result"
    }
   ],
   "source": [
    "grad1 = zeros(8)\n",
    "grad2 = zeros(8)"
   ]
  },
  {
   "cell_type": "code",
   "execution_count": 18,
   "metadata": {},
   "outputs": [
    {
     "name": "stdout",
     "output_type": "stream",
     "text": [
      "[0.02483587707561422, -0.046354045319964614, -0.09945128224612032, -0.13753504132160044, 0.08611999945013388, 0.06675504952017128, 0.05537264469870458, 0.032402618624142204]\n"
     ]
    },
    {
     "data": {
      "text/plain": [
       "8-element Array{Float64,1}:\n",
       "  0.02483587707561422 \n",
       " -0.046354045319964614\n",
       " -0.09945128224612032 \n",
       " -0.13753504132160044 \n",
       "  0.08611999945013388 \n",
       "  0.06675504952017128 \n",
       "  0.05537264469870458 \n",
       "  0.032402618624142204"
      ]
     },
     "execution_count": 18,
     "metadata": {},
     "output_type": "execute_result"
    }
   ],
   "source": [
    "mlm.∇f!(ones(8), grad1)\n",
    "println(grad1)\n",
    "mlm.∇f!(ones(8), grad2)"
   ]
  },
  {
   "cell_type": "code",
   "execution_count": 19,
   "metadata": {},
   "outputs": [
    {
     "data": {
      "text/plain": [
       "true"
      ]
     },
     "execution_count": 19,
     "metadata": {},
     "output_type": "execute_result"
    }
   ],
   "source": [
    "grad1 == grad2"
   ]
  },
  {
   "cell_type": "markdown",
   "metadata": {},
   "source": [
    "# Using the basic trust region (BTR) algorithm with BFGS approximation"
   ]
  },
  {
   "cell_type": "code",
   "execution_count": 20,
   "metadata": {},
   "outputs": [],
   "source": [
    "using GERALDINE"
   ]
  },
  {
   "cell_type": "code",
   "execution_count": 21,
   "metadata": {},
   "outputs": [
    {
     "data": {
      "text/plain": [
       "8-element Array{Int64,1}:\n",
       " 5\n",
       " 6\n",
       " 7\n",
       " 8\n",
       " 1\n",
       " 1\n",
       " 1\n",
       " 1"
      ]
     },
     "execution_count": 21,
     "metadata": {},
     "output_type": "execute_result"
    }
   ],
   "source": [
    " θstar"
   ]
  },
  {
   "cell_type": "code",
   "execution_count": null,
   "metadata": {},
   "outputs": [
    {
     "name": "stdout",
     "output_type": "stream",
     "text": [
      "[5.006, 6.0, 7.002, 7.985, 1.039, 1.004, 1.002, 1.01]\n",
      "[5.023, 5.992, 7.028, 7.906, 1.24, 1.021, 1.009, 1.061]\n",
      "[5.013, 5.99, 7.05, 7.871, 1.33, 1.026, 1.009, 1.084]\n",
      "[4.99, 5.991, 7.072, 7.851, 1.38, 1.025, 1.007, 1.098]\n",
      "[4.863, 6.002, 7.174, 7.773, 1.589, 1.008, 0.991, 1.158]\n",
      "[4.8, 6.011, 7.21, 7.756, 1.656, 0.992, 0.977, 1.175]\n",
      "[4.694, 6.032, 7.25, 7.763, 1.701, 0.952, 0.938, 1.183]\n",
      "[4.667, 6.045, 7.227, 7.825, 1.594, 0.921, 0.91, 1.148]\n",
      "[4.636, 6.056, 7.217, 7.868, 1.53, 0.887, 0.876, 1.12]\n",
      "[4.622, 6.061, 7.219, 7.878, 1.523, 0.868, 0.855, 1.108]\n",
      "[4.591, 6.084, 7.228, 7.906, 1.514, 0.762, 0.727, 1.046]\n",
      "[4.626, 6.087, 7.229, 7.892, 1.539, 0.717, 0.665, 1.018]\n",
      "[4.675, 6.073, 7.233, 7.854, 1.573, 0.746, 0.694, 1.035]\n",
      "[4.68, 6.074, 7.24, 7.847, 1.57, 0.738, 0.685, 1.033]\n",
      "[4.696, 6.082, 7.31, 7.784, 1.529, 0.688, 0.626, 1.035]\n",
      "[4.683, 6.083, 7.306, 7.793, 1.523, 0.695, 0.637, 1.042]\n",
      "[4.677, 6.082, 7.309, 7.792, 1.521, 0.697, 0.643, 1.053]\n",
      "[4.676, 6.081, 7.312, 7.789, 1.52, 0.695, 0.644, 1.062]\n",
      "[4.68, 6.078, 7.318, 7.781, 1.521, 0.684, 0.64, 1.084]\n"
     ]
    }
   ],
   "source": [
    "x = OPTIM_BFGS(mlm.f, mlm.∇f!, x0 = 1.0*θstar, nmax = 200, verbose = true)"
   ]
  },
  {
   "cell_type": "code",
   "execution_count": null,
   "metadata": {},
   "outputs": [],
   "source": [
    "grad = zeros(8)"
   ]
  },
  {
   "cell_type": "code",
   "execution_count": null,
   "metadata": {},
   "outputs": [],
   "source": [
    "mlm.∇f!(x[1], grad)"
   ]
  },
  {
   "cell_type": "code",
   "execution_count": null,
   "metadata": {},
   "outputs": [],
   "source": [
    "[1,2,3][4]"
   ]
  },
  {
   "cell_type": "code",
   "execution_count": null,
   "metadata": {},
   "outputs": [],
   "source": []
  }
 ],
 "metadata": {
  "kernelspec": {
   "display_name": "Julia 1.3.1",
   "language": "julia",
   "name": "julia-1.3"
  },
  "language_info": {
   "file_extension": ".jl",
   "mimetype": "application/julia",
   "name": "julia",
   "version": "1.3.1"
  }
 },
 "nbformat": 4,
 "nbformat_minor": 2
}
