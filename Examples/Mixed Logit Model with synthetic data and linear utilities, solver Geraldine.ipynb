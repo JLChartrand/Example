{
 "cells": [
  {
   "cell_type": "code",
   "execution_count": 1,
   "metadata": {},
   "outputs": [],
   "source": [
    "using AMLET, RDST, Distributions, ForwardDiff"
   ]
  },
  {
   "cell_type": "code",
   "execution_count": null,
   "metadata": {},
   "outputs": [],
   "source": []
  },
  {
   "cell_type": "code",
   "execution_count": 2,
   "metadata": {},
   "outputs": [
    {
     "data": {
      "text/plain": [
       "8"
      ]
     },
     "execution_count": 2,
     "metadata": {},
     "output_type": "execute_result"
    }
   ],
   "source": [
    "ngamma = 8"
   ]
  },
  {
   "cell_type": "code",
   "execution_count": 3,
   "metadata": {},
   "outputs": [
    {
     "data": {
      "text/plain": [
       "iterate (generic function with 271 methods)"
      ]
     },
     "execution_count": 3,
     "metadata": {},
     "output_type": "execute_result"
    }
   ],
   "source": [
    "struct DummyBatch <: Batch\n",
    "    IND::Array{LM_Individual}\n",
    "    rng::MRG32k3a\n",
    "end\n",
    "\n",
    "import Base.iterate\n",
    "function iterate(db::DummyBatch)\n",
    "    state = 1\n",
    "    reset_stream!(db.rng)\n",
    "    if state <= length(db.IND)\n",
    "        return MLM_Individual(db.IND[state], db.rng, ngamma), state+1\n",
    "    else\n",
    "        return nothing\n",
    "    end\n",
    "end\n",
    "function iterate(db::DummyBatch, state::Int = 1)\n",
    "    if state <= length(db.IND)\n",
    "        next_substream!(db.rng)\n",
    "        return MLM_Individual(db.IND[state], db.rng, ngamma), state+1\n",
    "    else\n",
    "        return nothing\n",
    "    end\n",
    "end"
   ]
  },
  {
   "cell_type": "code",
   "execution_count": 4,
   "metadata": {},
   "outputs": [
    {
     "data": {
      "text/plain": [
       "Full state of MRG32k3a generator:\n",
       "Cg = [2459988903, 764778996, 4187205638, 4089700229, 517468743, 2169295582]\n",
       "Bg = [2459988903, 764778996, 4187205638, 4089700229, 517468743, 2169295582]\n",
       "Ig = [2459988903, 764778996, 4187205638, 4089700229, 517468743, 2169295582]"
      ]
     },
     "execution_count": 4,
     "metadata": {},
     "output_type": "execute_result"
    }
   ],
   "source": [
    "gen = MRG32k3aGen([125,8765423,4546,6434,645,76465])\n",
    "betaGen = next_stream(gen)\n",
    "monteCarlosGen = next_stream(gen)"
   ]
  },
  {
   "cell_type": "code",
   "execution_count": 5,
   "metadata": {},
   "outputs": [
    {
     "data": {
      "text/plain": [
       "beta (generic function with 1 method)"
      ]
     },
     "execution_count": 5,
     "metadata": {},
     "output_type": "execute_result"
    }
   ],
   "source": [
    "function beta(θ::Vector, rng)\n",
    "    N = Normal.(θ[1:4], θ[5:8])\n",
    "    return [rand(rng, N[1]), rand(rng, N[2]), rand(rng, N[3]), rand(rng, N[4])]\n",
    "end"
   ]
  },
  {
   "cell_type": "code",
   "execution_count": 6,
   "metadata": {},
   "outputs": [
    {
     "data": {
      "text/plain": [
       "Gumbel{Float64}(μ=0.0, θ=1.0)"
      ]
     },
     "execution_count": 6,
     "metadata": {},
     "output_type": "execute_result"
    }
   ],
   "source": [
    "gum = Gumbel()"
   ]
  },
  {
   "cell_type": "code",
   "execution_count": 7,
   "metadata": {},
   "outputs": [
    {
     "data": {
      "text/plain": [
       "genIND (generic function with 1 method)"
      ]
     },
     "execution_count": 7,
     "metadata": {},
     "output_type": "execute_result"
    }
   ],
   "source": [
    "function genIND(dists::Array{T, 1}, θ::Vector, m::Int) where T<: Distribution\n",
    "    β = beta(θ, betaGen)\n",
    "    N = length(dists)\n",
    "    param = Array{Float64, 2}(undef, 0, N)\n",
    "    for _ in 1:m\n",
    "        param = [param ; (rand.(dists))']\n",
    "    end\n",
    "    best = argmax(param*β + rand(gum, m))\n",
    "    return LM_Individual(param, best, 1)\n",
    "end"
   ]
  },
  {
   "cell_type": "code",
   "execution_count": 8,
   "metadata": {},
   "outputs": [
    {
     "data": {
      "text/plain": [
       "8-element Array{Int64,1}:\n",
       " 5\n",
       " 6\n",
       " 7\n",
       " 8\n",
       " 1\n",
       " 1\n",
       " 1\n",
       " 1"
      ]
     },
     "execution_count": 8,
     "metadata": {},
     "output_type": "execute_result"
    }
   ],
   "source": [
    "θstar = [5,6,7,8, 1,1,1,1]"
   ]
  },
  {
   "cell_type": "code",
   "execution_count": 9,
   "metadata": {},
   "outputs": [
    {
     "data": {
      "text/plain": [
       "LM_Individual{Array{Float64,2}}([2.5409073118806416 4.178394435023822 -3.1299148421827887 1.645383576816343; -3.548557303341404 5.696298552067979 5.452040177475544 3.81385680817073; … ; 2.2957789489243625 -0.7435623718679816 -1.2017500310544644 6.141915084071501; 11.522456512414559 -5.2037241521257505 6.261968088582228 -1.3300736068221743], 2, 1)"
      ]
     },
     "execution_count": 9,
     "metadata": {},
     "output_type": "execute_result"
    }
   ],
   "source": [
    "dists = [Normal(2, 4) for _ in 1:4]\n",
    "genIND(dists, θstar, 5)"
   ]
  },
  {
   "cell_type": "code",
   "execution_count": 10,
   "metadata": {},
   "outputs": [],
   "source": [
    "db = DummyBatch([genIND(dists, θstar, 5) for _ in 1:1000], monteCarlosGen);"
   ]
  },
  {
   "cell_type": "code",
   "execution_count": 11,
   "metadata": {},
   "outputs": [],
   "source": [
    "mlm = MLM(db);"
   ]
  },
  {
   "cell_type": "code",
   "execution_count": 12,
   "metadata": {},
   "outputs": [
    {
     "data": {
      "text/plain": [
       "AMLET.LinearUtilitie(EU, ∇EU, EU_i, ∇EU_i)"
      ]
     },
     "execution_count": 12,
     "metadata": {},
     "output_type": "execute_result"
    }
   ],
   "source": [
    "#linear utilities of mixed logit model where each parameters of beta are assumed to follow an \n",
    "#independant exponnential Distribution beta\n",
    "\n",
    "function EU(θ::Vector, X::Matrix, rng::Rigged{N}) where N\n",
    "    β = beta(θ, rng)\n",
    "    reset_stream!(rng)\n",
    "    return X*β\n",
    "end\n",
    "\n",
    "function EU_i(θ::Vector, X::Matrix, i::Int64, rng::Rigged{N}) where N\n",
    "    β = beta(θ, rng)\n",
    "    reset_stream!(rng)\n",
    "    return X[i, :]'*β\n",
    "end\n",
    "\n",
    "function ∇EU(θ::Vector, X::Matrix, rng::Rigged{N}) where N\n",
    "    return vcat([∇EU_i(θ, X, i, rng) for i in 1:size(X, 1)]...)\n",
    "end\n",
    "\n",
    "function ∇EU_i(θ::Vector, X::Matrix, i::Int64, rng::Rigged{N}) where N\n",
    "    function tmp(x::Vector)\n",
    "        return EU_i(x, X, i, rng)\n",
    "    end\n",
    "    return ForwardDiff.gradient(tmp, θ)\n",
    "end\n",
    "\n",
    "uti = AMLET.LinearUtilitie(EU, ∇EU, EU_i, ∇EU_i)\n"
   ]
  },
  {
   "cell_type": "code",
   "execution_count": 13,
   "metadata": {},
   "outputs": [
    {
     "data": {
      "text/plain": [
       "(::AMLET.var\"#∇F!#17\"{DummyBatch,AMLET.LinearUtilitie,Int64}) (generic function with 2 methods)"
      ]
     },
     "execution_count": 13,
     "metadata": {},
     "output_type": "execute_result"
    }
   ],
   "source": [
    "complete_Model!(mlm, uti, 20)"
   ]
  },
  {
   "cell_type": "code",
   "execution_count": null,
   "metadata": {},
   "outputs": [],
   "source": []
  },
  {
   "cell_type": "code",
   "execution_count": 14,
   "metadata": {},
   "outputs": [
    {
     "data": {
      "text/plain": [
       "0.474484237438874"
      ]
     },
     "execution_count": 14,
     "metadata": {},
     "output_type": "execute_result"
    }
   ],
   "source": [
    "mlm.f(ones(8))"
   ]
  },
  {
   "cell_type": "code",
   "execution_count": 15,
   "metadata": {},
   "outputs": [
    {
     "data": {
      "text/plain": [
       "0.474484237438874"
      ]
     },
     "execution_count": 15,
     "metadata": {},
     "output_type": "execute_result"
    }
   ],
   "source": [
    "mlm.f(ones(8))"
   ]
  },
  {
   "cell_type": "code",
   "execution_count": 16,
   "metadata": {},
   "outputs": [
    {
     "data": {
      "text/plain": [
       "8-element Array{Float64,1}:\n",
       " 0.0\n",
       " 0.0\n",
       " 0.0\n",
       " 0.0\n",
       " 0.0\n",
       " 0.0\n",
       " 0.0\n",
       " 0.0"
      ]
     },
     "execution_count": 16,
     "metadata": {},
     "output_type": "execute_result"
    }
   ],
   "source": [
    "grad1 = zeros(8)\n",
    "grad2 = zeros(8)"
   ]
  },
  {
   "cell_type": "code",
   "execution_count": 17,
   "metadata": {},
   "outputs": [
    {
     "data": {
      "text/plain": [
       "8-element Array{Float64,1}:\n",
       "  0.023636934618073983\n",
       " -0.040791604335042364\n",
       " -0.08478103445877407 \n",
       " -0.15194320020119764 \n",
       "  0.09050622696010474 \n",
       "  0.08345486968423595 \n",
       "  0.046977618512055355\n",
       "  0.015775665922038315"
      ]
     },
     "execution_count": 17,
     "metadata": {},
     "output_type": "execute_result"
    }
   ],
   "source": [
    "mlm.∇f!(ones(8), grad1)\n",
    "mlm.∇f!(ones(8), grad2)"
   ]
  },
  {
   "cell_type": "code",
   "execution_count": 18,
   "metadata": {},
   "outputs": [
    {
     "data": {
      "text/plain": [
       "true"
      ]
     },
     "execution_count": 18,
     "metadata": {},
     "output_type": "execute_result"
    }
   ],
   "source": [
    "grad1 == grad2"
   ]
  },
  {
   "cell_type": "markdown",
   "metadata": {},
   "source": [
    "# Using the basic trust region (BTR) algorithm with BFGS approximation"
   ]
  },
  {
   "cell_type": "code",
   "execution_count": 19,
   "metadata": {},
   "outputs": [],
   "source": [
    "using GERALDINE"
   ]
  },
  {
   "cell_type": "code",
   "execution_count": 20,
   "metadata": {},
   "outputs": [
    {
     "data": {
      "text/plain": [
       "8-element Array{Int64,1}:\n",
       " 5\n",
       " 6\n",
       " 7\n",
       " 8\n",
       " 1\n",
       " 1\n",
       " 1\n",
       " 1"
      ]
     },
     "execution_count": 20,
     "metadata": {},
     "output_type": "execute_result"
    }
   ],
   "source": [
    " θstar"
   ]
  },
  {
   "cell_type": "code",
   "execution_count": null,
   "metadata": {},
   "outputs": [],
   "source": [
    "x = OPTIM_BFGS(mlm.f, mlm.∇f!, x0 = 1.0*θstar, nmax = 200, verbose = true)"
   ]
  },
  {
   "cell_type": "code",
   "execution_count": null,
   "metadata": {},
   "outputs": [],
   "source": [
    "grad = zeros(8)"
   ]
  },
  {
   "cell_type": "code",
   "execution_count": null,
   "metadata": {},
   "outputs": [],
   "source": [
    "mlm.∇f!(x[1], grad)"
   ]
  }
 ],
 "metadata": {
  "kernelspec": {
   "display_name": "Julia 1.3.1",
   "language": "julia",
   "name": "julia-1.3"
  },
  "language_info": {
   "file_extension": ".jl",
   "mimetype": "application/julia",
   "name": "julia",
   "version": "1.3.1"
  }
 },
 "nbformat": 4,
 "nbformat_minor": 2
}
