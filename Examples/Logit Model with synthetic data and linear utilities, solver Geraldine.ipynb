{
 "cells": [
  {
   "cell_type": "code",
   "execution_count": 1,
   "metadata": {},
   "outputs": [],
   "source": [
    "using AMLET"
   ]
  },
  {
   "cell_type": "code",
   "execution_count": 2,
   "metadata": {},
   "outputs": [
    {
     "data": {
      "text/plain": [
       "getindex (generic function with 262 methods)"
      ]
     },
     "execution_count": 2,
     "metadata": {},
     "output_type": "execute_result"
    }
   ],
   "source": [
    "struct DummyBatch <: Batch\n",
    "    IND::Array{LM_Individual}\n",
    "end\n",
    "\n",
    "import Base.iterate\n",
    "\n",
    "function iterate(db::DummyBatch, state::Int = 1)\n",
    "    if state <= length(db.IND)\n",
    "        return db.IND[state], state+1\n",
    "    else\n",
    "        return nothing\n",
    "    end\n",
    "end\n",
    "import Base.getindex\n",
    "function getindex(db::DummyBatch, index...)\n",
    "    return getindex(db.IND, index...)\n",
    "end"
   ]
  },
  {
   "cell_type": "code",
   "execution_count": 3,
   "metadata": {},
   "outputs": [
    {
     "data": {
      "text/plain": [
       "Gumbel{Float64}(μ=0.0, θ=1.0)"
      ]
     },
     "execution_count": 3,
     "metadata": {},
     "output_type": "execute_result"
    }
   ],
   "source": [
    "using Distributions\n",
    "\n",
    "gum = Gumbel()"
   ]
  },
  {
   "cell_type": "code",
   "execution_count": 4,
   "metadata": {},
   "outputs": [
    {
     "data": {
      "text/plain": [
       "genIND (generic function with 1 method)"
      ]
     },
     "execution_count": 4,
     "metadata": {},
     "output_type": "execute_result"
    }
   ],
   "source": [
    "function genIND(dists::Array{T, 1}, beta::Vector, m::Int) where T<: Distribution\n",
    "    N = length(dists)\n",
    "    param = Array{Float64, 2}(undef, 0, N)\n",
    "    for _ in 1:m\n",
    "        param = [param ; (rand.(dists))']\n",
    "    end\n",
    "    best = argmax(param*beta + rand(gum, m))\n",
    "    return LM_Individual(param, best, 1)\n",
    "end"
   ]
  },
  {
   "cell_type": "code",
   "execution_count": 5,
   "metadata": {},
   "outputs": [
    {
     "data": {
      "text/plain": [
       "LM_Individual{Array{Float64,2}}([3.018770644258856 0.99494832888613 -2.148081421135582 5.996001959856393; 3.073230575918097 0.3372735204020767 2.4526155390468976 1.4983075599368108; … ; 1.8034755653406251 -4.947129254585566 7.788901272579886 -3.4960277691865143; -8.60315379658116 2.1859914312092794 0.33070517511329567 2.64189969415792], 1, 1)"
      ]
     },
     "execution_count": 5,
     "metadata": {},
     "output_type": "execute_result"
    }
   ],
   "source": [
    "dists = [Normal(2, 4) for _ in 1:4]\n",
    "genIND(dists, [1,2,3,4], 5)"
   ]
  },
  {
   "cell_type": "code",
   "execution_count": 6,
   "metadata": {},
   "outputs": [],
   "source": [
    "db = DummyBatch([genIND(dists, [1,2,3,4], 5) for i in 1:10000]);"
   ]
  },
  {
   "cell_type": "code",
   "execution_count": 7,
   "metadata": {},
   "outputs": [],
   "source": [
    "lm = LM(db, 4);"
   ]
  },
  {
   "cell_type": "code",
   "execution_count": 8,
   "metadata": {},
   "outputs": [
    {
     "data": {
      "text/plain": [
       "(::AMLET.var\"#bhhh!#13\"{DummyBatch,AMLET.LinearUtilitie}) (generic function with 2 methods)"
      ]
     },
     "execution_count": 8,
     "metadata": {},
     "output_type": "execute_result"
    }
   ],
   "source": [
    "complete_Model!(lm::LM, LU)"
   ]
  },
  {
   "cell_type": "code",
   "execution_count": 9,
   "metadata": {},
   "outputs": [],
   "source": [
    "using GERALDINE"
   ]
  },
  {
   "cell_type": "markdown",
   "metadata": {},
   "source": [
    "# Using the basic trust region (BTR) algorithm with BFGS approximation"
   ]
  },
  {
   "cell_type": "code",
   "execution_count": 10,
   "metadata": {},
   "outputs": [
    {
     "name": "stdout",
     "output_type": "stream",
     "text": [
      "[0.43984565682620547, 0.8371684975140737, 1.2474013679827909, 1.657570320275321]\n",
      "[0.4017511788707625, 0.8303632462288082, 1.2590808453124809, 1.6900976140067128]\n",
      "[0.41821691862957655, 0.8428568362360189, 1.2698496347444361, 1.6992834004265547]\n",
      "[0.46884633120204383, 0.8973665663684178, 1.337943624316516, 1.7795748808000236]\n",
      "[0.546211694578196, 1.0159031984055766, 1.4965143803111034, 1.981461986947711]\n",
      "[0.6677907088573811, 1.2214837387611033, 1.8041923533294213, 2.3888312948697212]\n",
      "[0.79136439651869, 1.4922841530307485, 2.197818375331559, 2.9167078980700563]\n",
      "[0.909620293699529, 1.741009396109827, 2.589798342577874, 3.452520401463972]\n",
      "[0.9868397873286623, 1.928858139673046, 2.877514836943125, 3.844904298369647]\n",
      "[1.0229079398195964, 2.0182527310105485, 3.017476059479197, 4.037089927352628]\n",
      "[1.030316521126956, 2.0387861731632917, 3.050499039743781, 4.082800304501506]\n",
      "[1.0295042210313934, 2.038777766598577, 3.0511169213545495, 4.083993181687715]\n"
     ]
    },
    {
     "data": {
      "text/plain": [
       "([1.0263837557483022, 2.0341711132066744, 3.044799662637338, 4.07586735463894], GERALDINE.BFGS([0.8978383843331184 -0.10317354834331324 -0.09880154022605643 -0.1127268511669694; -0.10317354834331324 0.9228323237678796 -0.2013770488196092 -0.2875299356804904; -0.09880154022605643 -0.2013770488196092 0.7043580667713568 -0.3961458418300586; -0.1127268511669694 -0.2875299356804904 -0.3961458418300586 0.4762165392938237], [11.227731883124168 19.29188853727306 28.444186811539026 37.96741013583687; 19.291888537273074 37.469666787709066 53.95347408123753 72.07185451763999; 28.444186811539005 53.95347408123743 80.69868649386576 106.43920876088077; 37.967410135836865 72.0718545176399 106.43920876088086 143.14541100315176], 4), 13)"
      ]
     },
     "execution_count": 10,
     "metadata": {},
     "output_type": "execute_result"
    }
   ],
   "source": [
    "x = OPTIM_BFGS(lm.f, lm.∇f!, x0 = zeros(4), nmax = 200, verbose = true)"
   ]
  }
 ],
 "metadata": {
  "kernelspec": {
   "display_name": "Julia 1.3.1",
   "language": "julia",
   "name": "julia-1.3"
  },
  "language_info": {
   "file_extension": ".jl",
   "mimetype": "application/julia",
   "name": "julia",
   "version": "1.3.1"
  }
 },
 "nbformat": 4,
 "nbformat_minor": 2
}
