{
 "cells": [
  {
   "cell_type": "code",
   "execution_count": 1,
   "metadata": {},
   "outputs": [],
   "source": [
    "using RDST"
   ]
  },
  {
   "cell_type": "code",
   "execution_count": 2,
   "metadata": {},
   "outputs": [
    {
     "data": {
      "text/plain": [
       "Full state of MRG32k3a generator:\n",
       "Cg = [12345, 12345, 12345, 12345, 12345, 12345]\n",
       "Bg = [12345, 12345, 12345, 12345, 12345, 12345]\n",
       "Ig = [12345, 12345, 12345, 12345, 12345, 12345]"
      ]
     },
     "execution_count": 2,
     "metadata": {},
     "output_type": "execute_result"
    }
   ],
   "source": [
    "rdst1 = MRG32k3a()"
   ]
  },
  {
   "cell_type": "code",
   "execution_count": 3,
   "metadata": {},
   "outputs": [
    {
     "data": {
      "text/plain": [
       "4-element Array{Float64,1}:\n",
       " 0.12701112204657714\n",
       " 0.3185275653967945 \n",
       " 0.3091860155832701 \n",
       " 0.8258468629271136 "
      ]
     },
     "execution_count": 3,
     "metadata": {},
     "output_type": "execute_result"
    }
   ],
   "source": [
    "r1 = rand(rdst1)\n",
    "r2 = rand(rdst1)\n",
    "r3 = rand(rdst1)\n",
    "r4 = rand(rdst1)\n",
    "r1234 = [r1, r2, r3, r4]"
   ]
  },
  {
   "cell_type": "code",
   "execution_count": 4,
   "metadata": {},
   "outputs": [
    {
     "data": {
      "text/plain": [
       "Full state of MRG32k3a generator:\n",
       "Cg = [3023790853, 3385359573, 1322208174, 1655725443, 2057415812, 2070190165]\n",
       "Bg = [12345, 12345, 12345, 12345, 12345, 12345]\n",
       "Ig = [12345, 12345, 12345, 12345, 12345, 12345]"
      ]
     },
     "execution_count": 4,
     "metadata": {},
     "output_type": "execute_result"
    }
   ],
   "source": [
    "rdst1"
   ]
  },
  {
   "cell_type": "code",
   "execution_count": 5,
   "metadata": {},
   "outputs": [
    {
     "data": {
      "text/plain": [
       "Full state of MRG32k3a generator:\n",
       "Cg = [12345, 12345, 12345, 12345, 12345, 12345]\n",
       "Bg = [12345, 12345, 12345, 12345, 12345, 12345]\n",
       "Ig = [12345, 12345, 12345, 12345, 12345, 12345]"
      ]
     },
     "execution_count": 5,
     "metadata": {},
     "output_type": "execute_result"
    }
   ],
   "source": [
    "reset_substream!(rdst1)"
   ]
  },
  {
   "cell_type": "code",
   "execution_count": 6,
   "metadata": {},
   "outputs": [
    {
     "data": {
      "text/plain": [
       "true"
      ]
     },
     "execution_count": 6,
     "metadata": {},
     "output_type": "execute_result"
    }
   ],
   "source": [
    "R1 = rand(rdst1)\n",
    "R2 = rand(rdst1)\n",
    "R3 = rand(rdst1)\n",
    "R4 = rand(rdst1)\n",
    "R1234 = [r1, r2, r3, r4]\n",
    "R1234 == r1234"
   ]
  },
  {
   "cell_type": "code",
   "execution_count": 7,
   "metadata": {},
   "outputs": [
    {
     "data": {
      "text/plain": [
       "Full state of MRG32k3a generator:\n",
       "Cg = [870504860, 2641697727, 884013853, 339352413, 2374306706, 3651603887]\n",
       "Bg = [870504860, 2641697727, 884013853, 339352413, 2374306706, 3651603887]\n",
       "Ig = [12345, 12345, 12345, 12345, 12345, 12345]"
      ]
     },
     "execution_count": 7,
     "metadata": {},
     "output_type": "execute_result"
    }
   ],
   "source": [
    "next_substream!(rdst1)"
   ]
  },
  {
   "cell_type": "code",
   "execution_count": 8,
   "metadata": {},
   "outputs": [
    {
     "data": {
      "text/plain": [
       "Full state of MRG32k3a generator:\n",
       "Cg = [2440114691, 254762777, 2174121837, 377072327, 863264062, 3390411821]\n",
       "Bg = [870504860, 2641697727, 884013853, 339352413, 2374306706, 3651603887]\n",
       "Ig = [12345, 12345, 12345, 12345, 12345, 12345]"
      ]
     },
     "execution_count": 8,
     "metadata": {},
     "output_type": "execute_result"
    }
   ],
   "source": [
    "rand(rdst1)\n",
    "rand(rdst1)\n",
    "rand(rdst1)\n",
    "rand(rdst1)\n",
    "rdst1"
   ]
  },
  {
   "cell_type": "code",
   "execution_count": 9,
   "metadata": {},
   "outputs": [
    {
     "data": {
      "text/plain": [
       "Full state of MRG32k3a generator:\n",
       "Cg = [870504860, 2641697727, 884013853, 339352413, 2374306706, 3651603887]\n",
       "Bg = [870504860, 2641697727, 884013853, 339352413, 2374306706, 3651603887]\n",
       "Ig = [12345, 12345, 12345, 12345, 12345, 12345]"
      ]
     },
     "execution_count": 9,
     "metadata": {},
     "output_type": "execute_result"
    }
   ],
   "source": [
    "reset_substream!(rdst1)"
   ]
  },
  {
   "cell_type": "code",
   "execution_count": null,
   "metadata": {},
   "outputs": [],
   "source": []
  },
  {
   "cell_type": "code",
   "execution_count": null,
   "metadata": {},
   "outputs": [],
   "source": []
  }
 ],
 "metadata": {
  "kernelspec": {
   "display_name": "Julia 1.3.1",
   "language": "julia",
   "name": "julia-1.3"
  },
  "language_info": {
   "file_extension": ".jl",
   "mimetype": "application/julia",
   "name": "julia",
   "version": "1.3.1"
  }
 },
 "nbformat": 4,
 "nbformat_minor": 2
}
