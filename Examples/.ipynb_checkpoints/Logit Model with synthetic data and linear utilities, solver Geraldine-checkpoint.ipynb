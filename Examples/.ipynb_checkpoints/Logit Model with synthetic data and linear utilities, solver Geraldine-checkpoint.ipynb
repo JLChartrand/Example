{
 "cells": [
  {
   "cell_type": "code",
   "execution_count": 1,
   "metadata": {},
   "outputs": [
    {
     "name": "stdout",
     "output_type": "stream",
     "text": [
      "\u001b[32m\u001b[1m  Updating\u001b[22m\u001b[39m registry at `~/.julia/registries/General`\n",
      "\u001b[32m\u001b[1m  Updating\u001b[22m\u001b[39m git-repo `https://github.com/JuliaRegistries/General.git`\n",
      "\u001b[?25l\u001b[2K\u001b[?25h\u001b[32m\u001b[1m  Updating\u001b[22m\u001b[39m git-repo `git@github.com:JLChartrand/AMLET.jl.git`\n",
      "\u001b[?25l\u001b[2K\u001b[?25h\u001b[32m\u001b[1m Resolving\u001b[22m\u001b[39m package versions...\n",
      "\u001b[32m\u001b[1m  Updating\u001b[22m\u001b[39m `~/.julia/environments/v1.3/Project.toml`\n",
      "\u001b[90m [no changes]\u001b[39m\n",
      "\u001b[32m\u001b[1m  Updating\u001b[22m\u001b[39m `~/.julia/environments/v1.3/Manifest.toml`\n",
      "\u001b[90m [no changes]\u001b[39m\n"
     ]
    }
   ],
   "source": [
    "using Pkg\n",
    "Pkg.update(\"AMLET\")\n",
    "using AMLET"
   ]
  },
  {
   "cell_type": "code",
   "execution_count": 2,
   "metadata": {},
   "outputs": [
    {
     "data": {
      "text/plain": [
       "getindex (generic function with 267 methods)"
      ]
     },
     "execution_count": 2,
     "metadata": {},
     "output_type": "execute_result"
    }
   ],
   "source": [
    "struct DummyBatch <: Batch\n",
    "    IND::Array{LM_Individual}\n",
    "end\n",
    "\n",
    "import Base.iterate\n",
    "\n",
    "function iterate(db::DummyBatch, state::Int = 1)\n",
    "    if state <= length(db.IND)\n",
    "        return db.IND[state], state+1\n",
    "    else\n",
    "        return nothing\n",
    "    end\n",
    "end\n",
    "import Base.getindex\n",
    "function getindex(db::DummyBatch, index...)\n",
    "    return getindex(db.IND, index...)\n",
    "end"
   ]
  },
  {
   "cell_type": "code",
   "execution_count": 3,
   "metadata": {},
   "outputs": [
    {
     "data": {
      "text/plain": [
       "Gumbel{Float64}(μ=0.0, θ=1.0)"
      ]
     },
     "execution_count": 3,
     "metadata": {},
     "output_type": "execute_result"
    }
   ],
   "source": [
    "using Distributions\n",
    "\n",
    "gum = Gumbel()"
   ]
  },
  {
   "cell_type": "code",
   "execution_count": 4,
   "metadata": {},
   "outputs": [
    {
     "data": {
      "text/plain": [
       "genIND (generic function with 1 method)"
      ]
     },
     "execution_count": 4,
     "metadata": {},
     "output_type": "execute_result"
    }
   ],
   "source": [
    "function genIND(dists::Array{T, 1}, beta::Vector, m::Int) where T<: Distribution\n",
    "    N = length(dists)\n",
    "    param = Array{Float64, 2}(undef, 0, N)\n",
    "    for _ in 1:m\n",
    "        param = [param ; (rand.(dists))']\n",
    "    end\n",
    "    best = argmax(param*beta + rand(gum, m))\n",
    "    return LM_Individual(param, best, 1)\n",
    "end"
   ]
  },
  {
   "cell_type": "code",
   "execution_count": 5,
   "metadata": {},
   "outputs": [
    {
     "data": {
      "text/plain": [
       "LM_Individual{Array{Float64,2}}([6.640905034554102 -6.674008547231505 6.005138673220072 1.3459992380920345; 3.229395984021868 4.256902801068101 2.36228411816846 2.1601475238488312; … ; 4.1745241732361835 -0.19988119719718211 -4.245624236238323 -6.229135784445509; 5.728003868406537 4.314486740983756 2.987941832675128 -1.1601983760610675], 2, 1)"
      ]
     },
     "execution_count": 5,
     "metadata": {},
     "output_type": "execute_result"
    }
   ],
   "source": [
    "dists = [Normal(2, 4) for _ in 1:4]\n",
    "genIND(dists, [1,2,3,4], 5)"
   ]
  },
  {
   "cell_type": "code",
   "execution_count": 6,
   "metadata": {},
   "outputs": [],
   "source": [
    "db = DummyBatch([genIND(dists, [1,2,3,4], 5) for i in 1:10000]);"
   ]
  },
  {
   "cell_type": "code",
   "execution_count": 7,
   "metadata": {},
   "outputs": [],
   "source": [
    "lm = LM(db, 4);"
   ]
  },
  {
   "cell_type": "code",
   "execution_count": 8,
   "metadata": {},
   "outputs": [
    {
     "data": {
      "text/plain": [
       "(::AMLET.var\"#bhhh!#13\"{DummyBatch,AMLET.LinearUtilitie}) (generic function with 2 methods)"
      ]
     },
     "execution_count": 8,
     "metadata": {},
     "output_type": "execute_result"
    }
   ],
   "source": [
    "complete_Model!(lm::LM, LU)"
   ]
  },
  {
   "cell_type": "code",
   "execution_count": 9,
   "metadata": {},
   "outputs": [
    {
     "name": "stdout",
     "output_type": "stream",
     "text": [
      "\u001b[32m\u001b[1m  Updating\u001b[22m\u001b[39m registry at `~/.julia/registries/General`\n",
      "\u001b[32m\u001b[1m  Updating\u001b[22m\u001b[39m git-repo `https://github.com/JuliaRegistries/General.git`\n",
      "\u001b[?25l\u001b[2K\u001b[?25h\u001b[32m\u001b[1m  Updating\u001b[22m\u001b[39m git-repo `git@github.com:JLChartrand/GERALDINE.jl.git`\n",
      "\u001b[2K\u001b[?25h\u001b[32m\u001b[1m Resolving\u001b[22m\u001b[39m package versions...===============>]  100.0 %.0 %\n",
      "\u001b[32m\u001b[1m  Updating\u001b[22m\u001b[39m `~/.julia/environments/v1.3/Project.toml`\n",
      " \u001b[90m [7146fd16]\u001b[39m\u001b[93m ~ GERALDINE v0.1.0 #master (git@github.com:JLChartrand/GERALDINE.jl.git)\u001b[39m\n",
      "\u001b[32m\u001b[1m  Updating\u001b[22m\u001b[39m `~/.julia/environments/v1.3/Manifest.toml`\n",
      " \u001b[90m [7146fd16]\u001b[39m\u001b[93m ~ GERALDINE v0.1.0 #master (git@github.com:JLChartrand/GERALDINE.jl.git)\u001b[39m\n"
     ]
    }
   ],
   "source": [
    "using Pkg\n",
    "Pkg.update(\"GERALDINE\")"
   ]
  },
  {
   "cell_type": "code",
   "execution_count": 10,
   "metadata": {},
   "outputs": [
    {
     "name": "stderr",
     "output_type": "stream",
     "text": [
      "┌ Info: Precompiling GERALDINE [7146fd16-f651-11e8-2d04-2b42f8d5a9c6]\n",
      "└ @ Base loading.jl:1273\n"
     ]
    }
   ],
   "source": [
    "using GERALDINE"
   ]
  },
  {
   "cell_type": "markdown",
   "metadata": {},
   "source": [
    "# Using the basic trust region (BTR) algorithm with BFGS approximation"
   ]
  },
  {
   "cell_type": "code",
   "execution_count": 11,
   "metadata": {},
   "outputs": [
    {
     "data": {
      "text/plain": [
       "4-element Array{Float64,1}:\n",
       " 0.0\n",
       " 0.0\n",
       " 0.0\n",
       " 0.0"
      ]
     },
     "execution_count": 11,
     "metadata": {},
     "output_type": "execute_result"
    }
   ],
   "source": [
    "x0 = zeros(4)"
   ]
  },
  {
   "cell_type": "code",
   "execution_count": 12,
   "metadata": {},
   "outputs": [
    {
     "name": "stdout",
     "output_type": "stream",
     "text": [
      "[0.619586036640321, 1.1441411689966636, 1.75444322924257, 2.376461468248019]\n",
      "[0.5785189575601999, 1.2030654224736135, 1.7757298672047506, 2.363313860599553]\n",
      "[0.5934776649640147, 1.1923717399608424, 1.7789491859753535, 2.3786258734747565]\n",
      "[0.6026454857998289, 1.196427470051424, 1.7916628081328256, 2.400370416292582]\n",
      "[0.6479402053441101, 1.243004339011858, 1.8820171060795279, 2.5341436325475515]\n",
      "[0.7170053900497568, 1.3488112774668979, 2.055255761913221, 2.777425058910703]\n",
      "[0.8222094798196289, 1.5496230810197877, 2.360094501627562, 3.1883778929074156]\n",
      "[0.916473526858063, 1.7658001485095578, 2.6698984464720312, 3.5964600970443774]\n",
      "[0.9723960915702022, 1.9168755937971502, 2.8766057897447053, 3.861573018101445]\n",
      "[0.9873622914462555, 1.9709854822625452, 2.9455197622332627, 3.9465353083608536]\n",
      "[0.9849258515488107, 1.974065596007385, 2.9461904593671737, 3.944913153282261]\n"
     ]
    },
    {
     "data": {
      "text/plain": [
       "([0.9801719103527323, 1.9671899820947856, 2.934643702236887, 3.928581515278811], GERALDINE.BFGS([0.9919532080357819 -0.084925594157411 -0.10382767624047612 -0.13271718677396155; -0.084925594157411 0.8759095665472805 -0.1951303583786649 -0.26172643576697624; -0.10382767624047612 -0.1951303583786649 0.7060439964991455 -0.39835268768033355; -0.13271718677396155 -0.26172643576697624 -0.39835268768033355 0.4611873186540804], [10.214158474266483 17.84291850675949 26.927494736315673 36.3240641395377; 17.842918506759503 35.38433192975313 51.94373691102233 70.08216168435621; 26.927494736315683 51.94373691102233 79.45862347820453 105.86012389676176; 36.32406413953772 70.08216168435621 105.86012389676173 143.83059590476262], false), 12)"
      ]
     },
     "execution_count": 12,
     "metadata": {},
     "output_type": "execute_result"
    }
   ],
   "source": [
    "x = OPTIM_BFGS(lm.f, lm.∇f!, x0, nmax = 200, verbose = true)"
   ]
  },
  {
   "cell_type": "code",
   "execution_count": null,
   "metadata": {},
   "outputs": [],
   "source": []
  }
 ],
 "metadata": {
  "kernelspec": {
   "display_name": "Julia 1.3.1",
   "language": "julia",
   "name": "julia-1.3"
  },
  "language_info": {
   "file_extension": ".jl",
   "mimetype": "application/julia",
   "name": "julia",
   "version": "1.3.1"
  }
 },
 "nbformat": 4,
 "nbformat_minor": 2
}
