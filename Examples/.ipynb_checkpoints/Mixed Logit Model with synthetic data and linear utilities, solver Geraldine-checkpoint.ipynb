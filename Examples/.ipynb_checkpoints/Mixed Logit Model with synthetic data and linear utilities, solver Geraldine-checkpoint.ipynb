{
 "cells": [
  {
   "cell_type": "code",
   "execution_count": 6,
   "metadata": {},
   "outputs": [],
   "source": [
    "using Pkg"
   ]
  },
  {
   "cell_type": "code",
   "execution_count": 7,
   "metadata": {},
   "outputs": [],
   "source": [
    "using AMLET, RDST, Distributions, ForwardDiff, GERALDINE"
   ]
  },
  {
   "cell_type": "code",
   "execution_count": 8,
   "metadata": {},
   "outputs": [
    {
     "data": {
      "text/plain": [
       "8"
      ]
     },
     "execution_count": 8,
     "metadata": {},
     "output_type": "execute_result"
    }
   ],
   "source": [
    "ngamma = 8"
   ]
  },
  {
   "cell_type": "code",
   "execution_count": 9,
   "metadata": {},
   "outputs": [
    {
     "data": {
      "text/plain": [
       "iterate (generic function with 271 methods)"
      ]
     },
     "execution_count": 9,
     "metadata": {},
     "output_type": "execute_result"
    }
   ],
   "source": [
    "struct DummyBatch <: Batch\n",
    "    IND::Array{LM_Individual}\n",
    "    rng::MRG32k3a\n",
    "end\n",
    "\n",
    "import Base.iterate\n",
    "function iterate(db::DummyBatch)\n",
    "    state = 1\n",
    "    reset_stream!(db.rng)\n",
    "    if state <= length(db.IND)\n",
    "        return MLM_Individual(db.IND[state], db.rng, ngamma), state+1\n",
    "    else\n",
    "        return nothing\n",
    "    end\n",
    "end\n",
    "function iterate(db::DummyBatch, state::Int = 1)\n",
    "    if state <= length(db.IND)\n",
    "        next_substream!(db.rng)\n",
    "        return MLM_Individual(db.IND[state], db.rng, ngamma), state+1\n",
    "    else\n",
    "        return nothing\n",
    "    end\n",
    "end"
   ]
  },
  {
   "cell_type": "code",
   "execution_count": 10,
   "metadata": {},
   "outputs": [
    {
     "data": {
      "text/plain": [
       "Full state of MRG32k3a generator:\n",
       "Cg = [2459988903, 764778996, 4187205638, 4089700229, 517468743, 2169295582]\n",
       "Bg = [2459988903, 764778996, 4187205638, 4089700229, 517468743, 2169295582]\n",
       "Ig = [2459988903, 764778996, 4187205638, 4089700229, 517468743, 2169295582]"
      ]
     },
     "execution_count": 10,
     "metadata": {},
     "output_type": "execute_result"
    }
   ],
   "source": [
    "gen = MRG32k3aGen([125,8765423,4546,6434,645,76465])\n",
    "betaGen = next_stream(gen)\n",
    "monteCarlosGen = next_stream(gen)"
   ]
  },
  {
   "cell_type": "code",
   "execution_count": 11,
   "metadata": {},
   "outputs": [
    {
     "data": {
      "text/plain": [
       "beta (generic function with 1 method)"
      ]
     },
     "execution_count": 11,
     "metadata": {},
     "output_type": "execute_result"
    }
   ],
   "source": [
    "function beta(θ::Vector, γ::Vector)\n",
    "    N = Normal.(θ[1:4], θ[5:8])\n",
    "    return [quantile(N[i], γ[i]) for i in 1:4]\n",
    "    #return [rand(rng, N[1]), rand(rng, N[2]), rand(rng, N[3]), rand(rng, N[4])]\n",
    "end"
   ]
  },
  {
   "cell_type": "code",
   "execution_count": 12,
   "metadata": {},
   "outputs": [
    {
     "data": {
      "text/plain": [
       "Gumbel{Float64}(μ=0.0, θ=1.0)"
      ]
     },
     "execution_count": 12,
     "metadata": {},
     "output_type": "execute_result"
    }
   ],
   "source": [
    "gum = Gumbel()"
   ]
  },
  {
   "cell_type": "code",
   "execution_count": 16,
   "metadata": {},
   "outputs": [
    {
     "data": {
      "text/plain": [
       "genIND (generic function with 1 method)"
      ]
     },
     "execution_count": 16,
     "metadata": {},
     "output_type": "execute_result"
    }
   ],
   "source": [
    "function genIND(dists::Array{T, 1}, θ::Vector, m::Int) where T<: Distribution\n",
    "    γ = rand(betaGen, 4)\n",
    "    β = beta(θ, γ)\n",
    "    N = length(dists)\n",
    "    param = Array{Float64, 2}(undef, 0, N)\n",
    "    for _ in 1:m\n",
    "        param = [param ; (rand.(dists))']\n",
    "    end\n",
    "    best = argmax(param*β + rand(gum, m))\n",
    "    return LM_Individual(param, best, 1)\n",
    "end"
   ]
  },
  {
   "cell_type": "code",
   "execution_count": 17,
   "metadata": {},
   "outputs": [
    {
     "data": {
      "text/plain": [
       "8-element Array{Int64,1}:\n",
       " 5\n",
       " 6\n",
       " 7\n",
       " 8\n",
       " 1\n",
       " 1\n",
       " 1\n",
       " 1"
      ]
     },
     "execution_count": 17,
     "metadata": {},
     "output_type": "execute_result"
    }
   ],
   "source": [
    "θstar = [5,6,7,8, 1,1,1,1]"
   ]
  },
  {
   "cell_type": "code",
   "execution_count": 18,
   "metadata": {},
   "outputs": [
    {
     "data": {
      "text/plain": [
       "LM_Individual{Array{Float64,2}}([0.19850246376110703 4.842992034212866 4.8201763191871745 -4.297298623203515; 5.188663078134416 -2.987703296099868 -5.3415794567396455 6.567205080916137; … ; -2.354691729712382 1.7371766122026178 1.1316497696643488 -0.20365037149199683; 2.567352347198221 1.520004345342378 6.821433381357018 8.866704273256726], 5, 1)"
      ]
     },
     "execution_count": 18,
     "metadata": {},
     "output_type": "execute_result"
    }
   ],
   "source": [
    "dists = [Normal(2, 4) for _ in 1:4]\n",
    "genIND(dists, θstar, 5)"
   ]
  },
  {
   "cell_type": "code",
   "execution_count": 19,
   "metadata": {},
   "outputs": [],
   "source": [
    "db = DummyBatch([genIND(dists, θstar, 5) for _ in 1:1_000], monteCarlosGen);"
   ]
  },
  {
   "cell_type": "code",
   "execution_count": 20,
   "metadata": {},
   "outputs": [],
   "source": [
    "mlm = MLM(db);"
   ]
  },
  {
   "cell_type": "code",
   "execution_count": 22,
   "metadata": {},
   "outputs": [
    {
     "data": {
      "text/plain": [
       "∇EU_i (generic function with 2 methods)"
      ]
     },
     "execution_count": 22,
     "metadata": {},
     "output_type": "execute_result"
    }
   ],
   "source": [
    "#linear utilities of mixed logit model where each parameters of beta are assumed to follow an \n",
    "#independant exponnential Distribution beta\n",
    "\n",
    "function EU(θ::Vector, X::Matrix, γ::Vector)\n",
    "    β = beta(θ, γ)\n",
    "    return X*β\n",
    "end\n",
    "\n",
    "function EU_i(θ::Vector, X::Matrix, i::Int64, γ::Vector)\n",
    "    β = beta(θ, γ)\n",
    "    return X[i, :]'*β\n",
    "end\n",
    "\n",
    "function ∇EU(θ::Vector, X::Matrix, γ::Vector)\n",
    "    return vcat([∇EU_i(θ, X, i, γ) for i in 1:size(X, 1)]...)\n",
    "end\n",
    "\n",
    "function ∇EU_i(θ::Vector, X::Matrix, i::Int64, γ::Vector)\n",
    "    function tmp(x::Vector)\n",
    "        return EU_i(x, X, i, γ)\n",
    "    end\n",
    "    return ForwardDiff.gradient(tmp, θ)\n",
    "end\n",
    "\n",
    "#uti = AMLET.LinearUtilitie(EU, ∇EU, EU_i, ∇EU_i)\n"
   ]
  },
  {
   "cell_type": "code",
   "execution_count": 29,
   "metadata": {},
   "outputs": [
    {
     "data": {
      "text/plain": [
       "AMLET.LinearUtilitie(EU, ∇EU, EU_i, ∇EU_i)"
      ]
     },
     "execution_count": 29,
     "metadata": {},
     "output_type": "execute_result"
    }
   ],
   "source": [
    "#linear utilities of mixed logit model where each parameters of beta are assumed to follow an \n",
    "#independant exponnential Distribution beta\n",
    "\n",
    "function EU(θ::Vector, X::Matrix, γ::Vector)\n",
    "    β = θ[1:4] + θ[5:8] .* [quantile(Normal(0, 1), γ[i]) for i in 1:4]\n",
    "    return X*β\n",
    "end\n",
    "\n",
    "function EU_i(θ::Vector, X::Matrix, i::Int64, rng::Rigged{N}) where N\n",
    "    β = θ[1:4] + θ[5:8] .* [quantile(Normal(0, 1), γ[i]) for i in 1:4]\n",
    "    return X[i, :]'*β\n",
    "end\n",
    "\n",
    "function ∇EU(θ::Vector, X::Matrix, γ::Vector)\n",
    "    return vcat([∇EU_i(θ, X, i, γ) for i in 1:size(X, 1)]...)\n",
    "end\n",
    "\n",
    "function ∇EU_i(θ::Vector, X::Matrix, i::Int64, γ::Vector)\n",
    "    function tmp(x::Vector)\n",
    "        return EU_i(x, X, i, γ)\n",
    "    end\n",
    "    return ForwardDiff.gradient(tmp, θ)\n",
    "end\n",
    "\n",
    "uti = AMLET.LinearUtilitie(EU, ∇EU, EU_i, ∇EU_i)\n"
   ]
  },
  {
   "cell_type": "code",
   "execution_count": 30,
   "metadata": {},
   "outputs": [
    {
     "data": {
      "text/plain": [
       "(::AMLET.var\"#∇F!#17\"{DummyBatch,AMLET.LinearUtilitie,Int64}) (generic function with 2 methods)"
      ]
     },
     "execution_count": 30,
     "metadata": {},
     "output_type": "execute_result"
    }
   ],
   "source": [
    "complete_Model!(mlm, uti, 20)"
   ]
  },
  {
   "cell_type": "code",
   "execution_count": 31,
   "metadata": {},
   "outputs": [
    {
     "data": {
      "text/plain": [
       "0.6263705778179309"
      ]
     },
     "execution_count": 31,
     "metadata": {},
     "output_type": "execute_result"
    }
   ],
   "source": [
    "mlm.f(ones(8))"
   ]
  },
  {
   "cell_type": "code",
   "execution_count": 32,
   "metadata": {},
   "outputs": [
    {
     "data": {
      "text/plain": [
       "0.6263705778179309"
      ]
     },
     "execution_count": 32,
     "metadata": {},
     "output_type": "execute_result"
    }
   ],
   "source": [
    "mlm.f(ones(8))"
   ]
  },
  {
   "cell_type": "code",
   "execution_count": 33,
   "metadata": {},
   "outputs": [
    {
     "data": {
      "text/plain": [
       "8-element Array{Float64,1}:\n",
       " 0.0\n",
       " 0.0\n",
       " 0.0\n",
       " 0.0\n",
       " 0.0\n",
       " 0.0\n",
       " 0.0\n",
       " 0.0"
      ]
     },
     "execution_count": 33,
     "metadata": {},
     "output_type": "execute_result"
    }
   ],
   "source": [
    "grad1 = zeros(8)\n",
    "grad2 = zeros(8)"
   ]
  },
  {
   "cell_type": "code",
   "execution_count": 34,
   "metadata": {},
   "outputs": [
    {
     "ename": "UndefVarError",
     "evalue": "UndefVarError: rng not defined",
     "output_type": "error",
     "traceback": [
      "UndefVarError: rng not defined",
      "",
      "Stacktrace:",
      " [1] (::var\"#tmp#37\"{Array{Float64,2},Int64})(::Array{ForwardDiff.Dual{ForwardDiff.Tag{var\"#tmp#37\"{Array{Float64,2},Int64},Float64},Float64,8},1}) at ./In[29]:20",
      " [2] vector_mode_gradient(::var\"#tmp#37\"{Array{Float64,2},Int64}, ::Array{Float64,1}, ::ForwardDiff.GradientConfig{ForwardDiff.Tag{var\"#tmp#37\"{Array{Float64,2},Int64},Float64},Float64,8,Array{ForwardDiff.Dual{ForwardDiff.Tag{var\"#tmp#37\"{Array{Float64,2},Int64},Float64},Float64,8},1}}) at /home/jean/.julia/packages/ForwardDiff/vt5F1/src/apiutils.jl:37",
      " [3] gradient(::Function, ::Array{Float64,1}, ::ForwardDiff.GradientConfig{ForwardDiff.Tag{var\"#tmp#37\"{Array{Float64,2},Int64},Float64},Float64,8,Array{ForwardDiff.Dual{ForwardDiff.Tag{var\"#tmp#37\"{Array{Float64,2},Int64},Float64},Float64,8},1}}, ::Val{true}) at /home/jean/.julia/packages/ForwardDiff/vt5F1/src/gradient.jl:17",
      " [4] gradient(::Function, ::Array{Float64,1}, ::ForwardDiff.GradientConfig{ForwardDiff.Tag{var\"#tmp#37\"{Array{Float64,2},Int64},Float64},Float64,8,Array{ForwardDiff.Dual{ForwardDiff.Tag{var\"#tmp#37\"{Array{Float64,2},Int64},Float64},Float64,8},1}}) at /home/jean/.julia/packages/ForwardDiff/vt5F1/src/gradient.jl:15 (repeats 2 times)",
      " [5] ∇EU_i(::Array{Float64,1}, ::Array{Float64,2}, ::Int64, ::Array{Float64,1}) at ./In[29]:22",
      " [6] ∇logit(::Array{Float64,1}, ::MLM_Individual{Array{Float64,2}}, ::AMLET.LinearUtilitie) at /home/jean/.julia/packages/AMLET/F3d7A/src/Library/Mixed_Logit/Library_Mixed_logit_dev/Logit.jl:25",
      " [7] ∇SP(::Array{Float64,1}, ::MLM_Individual{Array{Float64,2}}, ::AMLET.LinearUtilitie, ::Int64) at /home/jean/.julia/packages/AMLET/F3d7A/src/Library/Mixed_Logit/Library_Mixed_logit_dev/SP.jl:14",
      " [8] ∇SLL(::Array{Float64,1}, ::DummyBatch, ::AMLET.LinearUtilitie, ::Int64) at /home/jean/.julia/packages/AMLET/F3d7A/src/Library/Mixed_Logit/Library_Mixed_logit_dev/SLL.jl:15",
      " [9] (::AMLET.var\"#∇F!#17\"{DummyBatch,AMLET.LinearUtilitie,Int64})(::Array{Float64,1}, ::Array{Float64,1}, ::DummyBatch) at /home/jean/.julia/packages/AMLET/F3d7A/src/Library/Mixed_Logit/Library_Mixed_logit_dev/Mixed_Logit_Maker.jl:11",
      " [10] (::AMLET.var\"#∇F!#17\"{DummyBatch,AMLET.LinearUtilitie,Int64})(::Array{Float64,1}, ::Array{Float64,1}) at /home/jean/.julia/packages/AMLET/F3d7A/src/Library/Mixed_Logit/Library_Mixed_logit_dev/Mixed_Logit_Maker.jl:10",
      " [11] top-level scope at In[34]:1"
     ]
    }
   ],
   "source": [
    "mlm.∇f!(ones(8), grad1)\n",
    "println(grad1)\n",
    "mlm.∇f!(ones(8), grad2)"
   ]
  },
  {
   "cell_type": "code",
   "execution_count": 35,
   "metadata": {},
   "outputs": [
    {
     "data": {
      "text/plain": [
       "true"
      ]
     },
     "execution_count": 35,
     "metadata": {},
     "output_type": "execute_result"
    }
   ],
   "source": [
    "grad1 == grad2"
   ]
  },
  {
   "cell_type": "markdown",
   "metadata": {},
   "source": [
    "# Using the basic trust region (BTR) algorithm with BFGS approximation"
   ]
  },
  {
   "cell_type": "code",
   "execution_count": 36,
   "metadata": {},
   "outputs": [],
   "source": [
    "using GERALDINE"
   ]
  },
  {
   "cell_type": "code",
   "execution_count": 37,
   "metadata": {},
   "outputs": [
    {
     "data": {
      "text/plain": [
       "8-element Array{Int64,1}:\n",
       " 5\n",
       " 6\n",
       " 7\n",
       " 8\n",
       " 1\n",
       " 1\n",
       " 1\n",
       " 1"
      ]
     },
     "execution_count": 37,
     "metadata": {},
     "output_type": "execute_result"
    }
   ],
   "source": [
    " θstar"
   ]
  },
  {
   "cell_type": "code",
   "execution_count": 38,
   "metadata": {},
   "outputs": [
    {
     "ename": "UndefVarError",
     "evalue": "UndefVarError: rng not defined",
     "output_type": "error",
     "traceback": [
      "UndefVarError: rng not defined",
      "",
      "Stacktrace:",
      " [1] (::var\"#tmp#37\"{Array{Float64,2},Int64})(::Array{ForwardDiff.Dual{ForwardDiff.Tag{var\"#tmp#37\"{Array{Float64,2},Int64},Float64},Float64,8},1}) at ./In[29]:20",
      " [2] vector_mode_gradient(::var\"#tmp#37\"{Array{Float64,2},Int64}, ::Array{Float64,1}, ::ForwardDiff.GradientConfig{ForwardDiff.Tag{var\"#tmp#37\"{Array{Float64,2},Int64},Float64},Float64,8,Array{ForwardDiff.Dual{ForwardDiff.Tag{var\"#tmp#37\"{Array{Float64,2},Int64},Float64},Float64,8},1}}) at /home/jean/.julia/packages/ForwardDiff/vt5F1/src/apiutils.jl:37",
      " [3] gradient(::Function, ::Array{Float64,1}, ::ForwardDiff.GradientConfig{ForwardDiff.Tag{var\"#tmp#37\"{Array{Float64,2},Int64},Float64},Float64,8,Array{ForwardDiff.Dual{ForwardDiff.Tag{var\"#tmp#37\"{Array{Float64,2},Int64},Float64},Float64,8},1}}, ::Val{true}) at /home/jean/.julia/packages/ForwardDiff/vt5F1/src/gradient.jl:17",
      " [4] gradient(::Function, ::Array{Float64,1}, ::ForwardDiff.GradientConfig{ForwardDiff.Tag{var\"#tmp#37\"{Array{Float64,2},Int64},Float64},Float64,8,Array{ForwardDiff.Dual{ForwardDiff.Tag{var\"#tmp#37\"{Array{Float64,2},Int64},Float64},Float64,8},1}}) at /home/jean/.julia/packages/ForwardDiff/vt5F1/src/gradient.jl:15 (repeats 2 times)",
      " [5] ∇EU_i(::Array{Float64,1}, ::Array{Float64,2}, ::Int64, ::Array{Float64,1}) at ./In[29]:22",
      " [6] ∇logit(::Array{Float64,1}, ::MLM_Individual{Array{Float64,2}}, ::AMLET.LinearUtilitie) at /home/jean/.julia/packages/AMLET/F3d7A/src/Library/Mixed_Logit/Library_Mixed_logit_dev/Logit.jl:25",
      " [7] ∇SP(::Array{Float64,1}, ::MLM_Individual{Array{Float64,2}}, ::AMLET.LinearUtilitie, ::Int64) at /home/jean/.julia/packages/AMLET/F3d7A/src/Library/Mixed_Logit/Library_Mixed_logit_dev/SP.jl:14",
      " [8] ∇SLL(::Array{Float64,1}, ::DummyBatch, ::AMLET.LinearUtilitie, ::Int64) at /home/jean/.julia/packages/AMLET/F3d7A/src/Library/Mixed_Logit/Library_Mixed_logit_dev/SLL.jl:15",
      " [9] (::AMLET.var\"#∇F!#17\"{DummyBatch,AMLET.LinearUtilitie,Int64})(::Array{Float64,1}, ::Array{Float64,1}, ::DummyBatch) at /home/jean/.julia/packages/AMLET/F3d7A/src/Library/Mixed_Logit/Library_Mixed_logit_dev/Mixed_Logit_Maker.jl:11",
      " [10] ∇F! at /home/jean/.julia/packages/AMLET/F3d7A/src/Library/Mixed_Logit/Library_Mixed_logit_dev/Mixed_Logit_Maker.jl:10 [inlined]",
      " [11] #optimize#19(::Int64, ::Float64, ::Type, ::Bool, ::typeof(GERALDINE.optimize), ::Function, ::AMLET.var\"#∇F!#17\"{DummyBatch,AMLET.LinearUtilitie,Int64}, ::Array{Float64,1}) at /home/jean/.julia/packages/GERALDINE/JHvMQ/src/BFGS2.jl:52",
      " [12] (::GERALDINE.var\"#kw##optimize\")(::NamedTuple{(:nmax, :verbose, :epsilon),Tuple{Int64,Bool,Float64}}, ::typeof(GERALDINE.optimize), ::Function, ::Function, ::Array{Float64,1}) at ./none:0",
      " [13] #OPTIM_BFGS#20 at /home/jean/.julia/packages/GERALDINE/JHvMQ/src/BFGS2.jl:88 [inlined]",
      " [14] (::GERALDINE.var\"#kw##OPTIM_BFGS\")(::NamedTuple{(:nmax, :verbose),Tuple{Int64,Bool}}, ::typeof(OPTIM_BFGS), ::Function, ::Function, ::Array{Float64,1}) at ./none:0",
      " [15] top-level scope at In[38]:1"
     ]
    }
   ],
   "source": [
    "x = OPTIM_BFGS(mlm.f, mlm.∇f!, 1.0*θstar, nmax = 200, verbose = true)"
   ]
  },
  {
   "cell_type": "code",
   "execution_count": 39,
   "metadata": {},
   "outputs": [
    {
     "data": {
      "text/plain": [
       "8-element Array{Float64,1}:\n",
       " 0.0\n",
       " 0.0\n",
       " 0.0\n",
       " 0.0\n",
       " 0.0\n",
       " 0.0\n",
       " 0.0\n",
       " 0.0"
      ]
     },
     "execution_count": 39,
     "metadata": {},
     "output_type": "execute_result"
    }
   ],
   "source": [
    "grad = zeros(8)"
   ]
  },
  {
   "cell_type": "code",
   "execution_count": 40,
   "metadata": {},
   "outputs": [
    {
     "ename": "UndefVarError",
     "evalue": "UndefVarError: x not defined",
     "output_type": "error",
     "traceback": [
      "UndefVarError: x not defined",
      "",
      "Stacktrace:",
      " [1] top-level scope at In[40]:1"
     ]
    }
   ],
   "source": [
    "mlm.∇f!(x[1], grad)"
   ]
  },
  {
   "cell_type": "code",
   "execution_count": null,
   "metadata": {},
   "outputs": [],
   "source": []
  }
 ],
 "metadata": {
  "kernelspec": {
   "display_name": "Julia 1.3.1",
   "language": "julia",
   "name": "julia-1.3"
  },
  "language_info": {
   "file_extension": ".jl",
   "mimetype": "application/julia",
   "name": "julia",
   "version": "1.3.1"
  }
 },
 "nbformat": 4,
 "nbformat_minor": 2
}
